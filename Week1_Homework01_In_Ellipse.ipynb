{
 "cells": [
  {
   "cell_type": "markdown",
   "metadata": {},
   "source": [
    "### 宿題1: 以下の楕円の面積をモンテカルロ法を使って求めよう\n",
    "\\begin{equation*}\n",
    "  \\frac{x^2}{3^2} + \\frac{y^2}{4^2} = 50 \n",
    "\\end{equation*}"
   ]
  },
  {
   "cell_type": "markdown",
   "metadata": {},
   "source": [
    "### 回答"
   ]
  },
  {
   "cell_type": "code",
   "execution_count": 1,
   "metadata": {
    "collapsed": true
   },
   "outputs": [],
   "source": [
    "%matplotlib inline\n",
    "import numpy as np\n",
    "import matplotlib.pyplot as plt  #matplotlibはグラフ描画のためのライブラリ"
   ]
  },
  {
   "cell_type": "code",
   "execution_count": 2,
   "metadata": {
    "collapsed": true
   },
   "outputs": [],
   "source": [
    "#sizeはサンプル数、upperは乱数を発生させるエリアのx軸とy軸の上限（下限は(0,0))\n",
    "def generate_uniform_random(size=10, upper=[3,3]):\n",
    "    result = np.zeros((size, len(upper)))\n",
    "    for i in range(len(upper)):\n",
    "        result[:, i] = np.random.rand(size) * upper[i]\n",
    "    return result"
   ]
  },
  {
   "cell_type": "code",
   "execution_count": 3,
   "metadata": {
    "collapsed": true
   },
   "outputs": [],
   "source": [
    "def in_circle_func(x, y):\n",
    "    if x**2 + y**2 <=3**2:\n",
    "        return 1\n",
    "    else:\n",
    "        return 0"
   ]
  },
  {
   "cell_type": "code",
   "execution_count": 4,
   "metadata": {
    "collapsed": true
   },
   "outputs": [],
   "source": [
    "def in_ellipse_func(x, y):\n",
    "    if (x**2)/(3**2) + (y**2)/(4**2) <=50:\n",
    "        return 1\n",
    "    else:\n",
    "        return 0"
   ]
  },
  {
   "cell_type": "code",
   "execution_count": 5,
   "metadata": {
    "collapsed": true
   },
   "outputs": [],
   "source": [
    "def get_incircle_ratio(res, in_circle_data, out_circle_data):\n",
    "    in_circle_count = 0\n",
    "#    in_circle_data = []\n",
    "#    out_circle_data = []\n",
    "\n",
    "    for each_row in res:\n",
    "        x = each_row[0]\n",
    "        y = each_row[1]\n",
    "#        in_circle_flag = in_circle_func(x=x, y=y)  #もし円の中であれば1, そうでなければ0\n",
    "        in_circle_flag = in_ellipse_func(x=x, y=y)  #もし円の中であれば1, そうでなければ0\n",
    "        in_circle_count += in_circle_flag #足し上げていけば円の中に入る点の数を数えられる\n",
    "    \n",
    "        #あとで色分けした散布図を書くためにデータを分けておく\n",
    "        if in_circle_flag==1:\n",
    "            in_circle_data.append(each_row)\n",
    "        else:\n",
    "            out_circle_data.append(each_row)\n",
    "\n",
    "    in_circle_ratio = in_circle_count/len(res)\n",
    "    return in_circle_ratio"
   ]
  },
  {
   "cell_type": "code",
   "execution_count": 6,
   "metadata": {},
   "outputs": [
    {
     "name": "stdout",
     "output_type": "stream",
     "text": [
      "[[  3.69208968   9.07491798]\n",
      " [ 29.37871817  13.13915246]\n",
      " [  5.05172026   7.36427225]\n",
      " [ 26.009152     3.55916716]\n",
      " [ 15.65167064  22.96859759]\n",
      " [  7.01599991   9.50340196]\n",
      " [ 20.19399015   5.41154562]\n",
      " [ 22.04527939  25.02335588]\n",
      " [ 22.43870039  16.0391177 ]\n",
      " [  7.88027265  20.03781421]]\n",
      "楕円の中に入る割合 0.5367\n",
      "推定された値 1932.12\n",
      "答え 1884.9555921538758\n"
     ]
    }
   ],
   "source": [
    "in_circle_data = []\n",
    "out_circle_data = []\n",
    "estimated_area = []\n",
    "sample_size = 10000\n",
    "\n",
    "# 乱数を生成\n",
    "rand_nums = generate_uniform_random(size=sample_size, upper=[30,30])\n",
    "\n",
    "# 面積の計算\n",
    "in_circle_ratio = get_incircle_ratio(rand_nums, in_circle_data, out_circle_data)\n",
    "result = (30*30)*4*in_circle_ratio\n",
    "    \n",
    "#後で可視化するために結果をリストに保存\n",
    "estimated_area.append(result)\n",
    "\n",
    "print(rand_nums[:10])\n",
    "print(\"楕円の中に入る割合\",  in_circle_ratio)\n",
    "print(\"推定された値\", estimated_area[-1])  #サンプルサイズが最大のときの推定された面積\n",
    "print(\"答え\", 50*3*4*np.pi)"
   ]
  },
  {
   "cell_type": "code",
   "execution_count": 10,
   "metadata": {},
   "outputs": [
    {
     "data": {
      "image/png": "[encoded data removed]",
      "text/plain": [
       "<matplotlib.figure.Figure at 0x27c8cc72c50>"
      ]
     },
     "metadata": {},
     "output_type": "display_data"
    }
   ],
   "source": [
    "in_circle_data = np.array(in_circle_data)\n",
    "out_circle_data = np.array(out_circle_data)\n",
    "\n",
    "fig = plt.figure()\n",
    "ax = fig.add_subplot(1,1,1)\n",
    "ax.scatter(in_circle_data[:,0], in_circle_data[:,1], c='red')\n",
    "ax.scatter(out_circle_data[:,0], out_circle_data[:,1], c='blue')\n",
    "ax.set_xlabel('x')\n",
    "ax.set_ylabel('y')\n",
    "\n",
    "plt.gca().set_aspect('equal', adjustable='box')"
   ]
  },
  {
   "cell_type": "code",
   "execution_count": null,
   "metadata": {
    "collapsed": true
   },
   "outputs": [],
   "source": []
  }
 ],
 "metadata": {
  "kernelspec": {
   "display_name": "Python 3",
   "language": "python",
   "name": "python3"
  },
  "language_info": {
   "codemirror_mode": {
    "name": "ipython",
    "version": 3
   },
   "file_extension": ".py",
   "mimetype": "text/x-python",
   "name": "python",
   "nbconvert_exporter": "python",
   "pygments_lexer": "ipython3",
   "version": "3.6.1"
  }
 },
 "nbformat": 4,
 "nbformat_minor": 2
}
