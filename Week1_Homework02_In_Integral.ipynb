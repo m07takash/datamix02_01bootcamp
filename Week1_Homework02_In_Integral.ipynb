{
 "cells": [
  {
   "cell_type": "markdown",
   "metadata": {},
   "source": [
    "### 宿題2: 以下の積分をモンテカルロシミュレーションで解いてみましょう\n",
    "\\begin{equation*}\n",
    "  \\int_0^1 2x^3 dx\n",
    "\\end{equation*}\n",
    "\n",
    "ヒント\n",
    " 1.  積分の意味としては、曲線の下の面積を計算してください、という意味です。\n",
    " 2. グラフを見ると、当然x軸（横軸）は0~1の範囲ですが、縦軸の範囲は0から2です。\n",
    " 3. その範囲で乱数を発生させて、発生させた乱数のうち、いくつの点が線の下になるかの割合を求めます。乱数の発生のさせ方は、generate_uniform_random関数を使いましょう。"
   ]
  },
  {
   "cell_type": "markdown",
   "metadata": {},
   "source": [
    "### 回答（松本 敬史）"
   ]
  },
  {
   "cell_type": "code",
   "execution_count": 1,
   "metadata": {
    "collapsed": true
   },
   "outputs": [],
   "source": [
    "%matplotlib inline\n",
    "import numpy as np\n",
    "import matplotlib.pyplot as plt  #matplotlibはグラフ描画のためのライブラリ"
   ]
  },
  {
   "cell_type": "code",
   "execution_count": 2,
   "metadata": {
    "collapsed": true
   },
   "outputs": [],
   "source": [
    "#sizeはサンプル数、upperは乱数を発生させるエリアのx軸とy軸の上限（下限は(0,0))\n",
    "def generate_uniform_random(size=10, upper=[3,3]):\n",
    "    result = np.zeros((size, len(upper)))\n",
    "    for i in range(len(upper)):\n",
    "        result[:, i] = np.random.rand(size) * upper[i]\n",
    "    return result"
   ]
  },
  {
   "cell_type": "code",
   "execution_count": 3,
   "metadata": {
    "collapsed": true
   },
   "outputs": [],
   "source": [
    "def in_circle_func(x, y):\n",
    "    if x**2 + y**2 <=3**2:\n",
    "        return 1\n",
    "    else:\n",
    "        return 0"
   ]
  },
  {
   "cell_type": "code",
   "execution_count": 4,
   "metadata": {
    "collapsed": true
   },
   "outputs": [],
   "source": [
    "def in_ellipse_func(x, y):\n",
    "    if (x**2)/(3**2) + (y**2)/(4**2) <=50:\n",
    "        return 1\n",
    "    else:\n",
    "        return 0"
   ]
  },
  {
   "cell_type": "code",
   "execution_count": 5,
   "metadata": {
    "collapsed": true
   },
   "outputs": [],
   "source": [
    "def in_integral_func(x, y):\n",
    "    if y <= 2*x**3:\n",
    "        return 1\n",
    "    else:\n",
    "        return 0"
   ]
  },
  {
   "cell_type": "code",
   "execution_count": 6,
   "metadata": {
    "collapsed": true
   },
   "outputs": [],
   "source": [
    "def get_incircle_ratio(res, in_circle_data, out_circle_data):\n",
    "    in_circle_count = 0\n",
    "#    in_circle_data = []\n",
    "#    out_circle_data = []\n",
    "\n",
    "    for each_row in res:\n",
    "        x = each_row[0]\n",
    "        y = each_row[1]\n",
    "#        in_circle_flag = in_circle_func(x=x, y=y)  #もし円の中であれば1, そうでなければ0\n",
    "#        in_circle_flag = in_ellipse_func(x=x, y=y)  #もし楕円の中であれば1, そうでなければ0\n",
    "        in_circle_flag = in_integral_func(x=x, y=y)  #もし積分の中であれば1, そうでなければ0\n",
    "        in_circle_count += in_circle_flag #足し上げていけば円の中に入る点の数を数えられる\n",
    "    \n",
    "        #あとで色分けした散布図を書くためにデータを分けておく\n",
    "        if in_circle_flag==1:\n",
    "            in_circle_data.append(each_row)\n",
    "        else:\n",
    "            out_circle_data.append(each_row)\n",
    "\n",
    "    in_circle_ratio = in_circle_count/len(res)\n",
    "    return in_circle_ratio"
   ]
  },
  {
   "cell_type": "code",
   "execution_count": 14,
   "metadata": {},
   "outputs": [
    {
     "name": "stdout",
     "output_type": "stream",
     "text": [
      "[[ 0.59660278  1.24838632]\n",
      " [ 0.20452467  1.06718993]\n",
      " [ 0.13340097  1.46482145]\n",
      " [ 0.05947157  1.11377809]\n",
      " [ 0.3820608   1.5253226 ]\n",
      " [ 0.59255632  1.81176657]\n",
      " [ 0.78521869  1.26846245]\n",
      " [ 0.65334265  1.42781671]\n",
      " [ 0.7626221   1.1253912 ]\n",
      " [ 0.04502598  1.75076201]]\n",
      "積分の中に入る割合 0.2511\n",
      "推定された値 0.5022\n",
      "答え 0.5\n"
     ]
    }
   ],
   "source": [
    "in_circle_data = []\n",
    "out_circle_data = []\n",
    "estimated_area = []\n",
    "sample_size = 10000\n",
    "\n",
    "# 乱数を生成\n",
    "rand_nums = generate_uniform_random(size=sample_size, upper=[1,2])\n",
    "\n",
    "# 面積の計算\n",
    "in_circle_ratio = get_incircle_ratio(rand_nums, in_circle_data, out_circle_data)\n",
    "result = (1*2)*in_circle_ratio\n",
    "    \n",
    "#後で可視化するために結果をリストに保存\n",
    "estimated_area.append(result)\n",
    "\n",
    "print(rand_nums[:10])\n",
    "print(\"積分の中に入る割合\",  in_circle_ratio)\n",
    "print(\"推定された値\", estimated_area[-1])  #サンプルサイズが最大のときの推定された面積\n",
    "print(\"答え\", 0.5)"
   ]
  },
  {
   "cell_type": "code",
   "execution_count": 15,
   "metadata": {},
   "outputs": [
    {
     "data": {
      "image/png": "[encoded data removed]",
      "text/plain": [
       "<matplotlib.figure.Figure at 0x26c733775f8>"
      ]
     },
     "metadata": {},
     "output_type": "display_data"
    }
   ],
   "source": [
    "in_circle_data = np.array(in_circle_data)\n",
    "out_circle_data = np.array(out_circle_data)\n",
    "\n",
    "fig = plt.figure()\n",
    "ax = fig.add_subplot(1,1,1)\n",
    "ax.scatter(in_circle_data[:,0], in_circle_data[:,1], c='red')\n",
    "ax.scatter(out_circle_data[:,0], out_circle_data[:,1], c='blue')\n",
    "ax.set_xlabel('x')\n",
    "ax.set_ylabel('y')\n",
    "\n",
    "plt.gca().set_aspect('equal', adjustable='box')"
   ]
  }
 ],
 "metadata": {
  "kernelspec": {
   "display_name": "Python 3",
   "language": "python",
   "name": "python3"
  },
  "language_info": {
   "codemirror_mode": {
    "name": "ipython",
    "version": 3
   },
   "file_extension": ".py",
   "mimetype": "text/x-python",
   "name": "python",
   "nbconvert_exporter": "python",
   "pygments_lexer": "ipython3",
   "version": "3.6.1"
  }
 },
 "nbformat": 4,
 "nbformat_minor": 2
}
