{
 "cells": [
  {
   "cell_type": "markdown",
   "metadata": {},
   "source": [
    "# HW3: 新規ユーザーの初日の行動と翌日起動の関係を調べる\n",
    "\n",
    "user_data.user_masterとstat.user_article_statを使い、2016年1月1日入会ユーザーについて、各ユーザーの入会後24時間以内行動データ（以下のような表）と次の24時間から48時間でアプリを起動したかどうかをを作成してください。スライドP.91の質問に答えてください。"
   ]
  },
  {
   "cell_type": "markdown",
   "metadata": {},
   "source": [
    "## 質問\n",
    "ダウンロード翌日（ダウンロードしてから24時間後~48時間後)起動する人とそうでない人について、初日にとった以下の行動の回数で大きな差異が見られますか？\n",
    "\n",
    "もし差異があるとしたら、どの行動ですか？\n",
    "\n",
    "* app_open（アプリの起動）\n",
    "* topic_follow　（テーマをフォローした）\n",
    "* article_show　（記事タイトルを見た）\n",
    "* article_read　（記事本文を閲覧した）\n"
   ]
  },
  {
   "cell_type": "code",
   "execution_count": 3,
   "metadata": {
    "collapsed": true
   },
   "outputs": [],
   "source": [
    "%matplotlib inline\n",
    "import pandas as pd\n",
    "import pandas.io.sql as psql\n",
    "import numpy as np\n",
    "import matplotlib\n",
    "import matplotlib.pyplot as plt\n",
    "matplotlib.style.use('ggplot')\n",
    "\n",
    "import psycopg2\n",
    "\n",
    "from __future__ import print_function"
   ]
  },
  {
   "cell_type": "markdown",
   "metadata": {},
   "source": [
    "<H2>データベースへのアクセスを確立する</H2>\n",
    "* dbnameはアクセスするデータベースの名前を指定\n",
    "* userはユーザー名\n",
    "* passwordはパスワード\n",
    "* hostはデータベースがあるサーバーのアドレス\n",
    "* portは通信する際のポート番号（今回はRedshiftなので5439。実務で使う場合はデータベースエンジニアなど管理者に確認）"
   ]
  },
  {
   "cell_type": "code",
   "execution_count": 4,
   "metadata": {
    "collapsed": true
   },
   "outputs": [],
   "source": [
    "db_params = {\n",
    "    'dbname': 'kameliodemo',\n",
    "    'user': 'dsbootcamp',\n",
    "    'password': 'July2017',\n",
    "    'host': \"sql-training.crijpbsngns8.ap-northeast-1.redshift.amazonaws.com\",\n",
    "    'port': 5439\n",
    "}\n",
    "\n",
    "con = psycopg2.connect(**db_params)"
   ]
  },
  {
   "cell_type": "markdown",
   "metadata": {},
   "source": [
    "# ここからコードを書いてください。"
   ]
  },
  {
   "cell_type": "code",
   "execution_count": 15,
   "metadata": {
    "collapsed": true
   },
   "outputs": [],
   "source": [
    "your_sql = \"\"\"\n",
    "WITH exec_nextday as (\n",
    "        SELECT u.user_id,\n",
    "               CASE WHEN count(0) > 0 THEN '1' \n",
    "                    ELSE '0'\n",
    "                    END as tomorrow_flg\n",
    "          FROM stat.user_article_stat as s\n",
    "               INNER JOIN user_data.user_master as u\n",
    "               ON u.user_id = s.user_id\n",
    "         WHERE (s.created_at >= u.created_at + interval '24 hours')\n",
    "           AND (s.created_at < u.created_at + interval '48 hours')\n",
    "         GROUP BY u.user_id\n",
    "        HAVING count(s.id) > 0\n",
    "    ),\n",
    "    exec_today as (\n",
    "        SELECT s.user_id,\n",
    "               SUM(CASE WHEN s.behave_type = 'app_open' THEN 1 ELSE 0 END) as app_open,\n",
    "               SUM(CASE WHEN s.behave_type like 'topic_follow%' THEN 1 ELSE 0 END) as topic_follow,\n",
    "               SUM(CASE WHEN s.behave_type = 'article_show' THEN 1 ELSE 0 END) as article_show,\n",
    "               SUM(CASE WHEN s.behave_type = 'article_read' THEN 1 ELSE 0 END) as article_read\n",
    "          FROM stat.user_article_stat as s\n",
    "               INNER JOIN user_data.user_master as u\n",
    "               ON u.user_id = s.user_id\n",
    "         WHERE (u.created_at <= s.created_at)\n",
    "           AND (s.created_at <= u.created_at + interval '24 hours')\n",
    "         GROUP BY s.user_id\n",
    "    ),\n",
    "    user_activity as (\n",
    "        SELECT t.user_id,\n",
    "               a.gender,\n",
    "               a.age,\n",
    "               t.app_open,\n",
    "               t.topic_follow,\n",
    "               t.article_show,\n",
    "               t.article_read,\n",
    "               CASE WHEN n.tomorrow_flg = '1' THEN '1' ELSE '0' END as tomorrow_flg\n",
    "          FROM exec_today as t\n",
    "               LEFT OUTER JOIN exec_nextday as n\n",
    "               ON t.user_id = n.user_id\n",
    "               LEFT OUTER JOIN user_data.user_attribute as a\n",
    "               ON t.user_id = a.user_id\n",
    "    )\n",
    "\n",
    "SELECT gender,\n",
    "       tomorrow_flg,\n",
    "       SUM(app_open) as app_open,\n",
    "       SUM(topic_follow) as topic_follow,\n",
    "       SUM(article_show) as article_show,\n",
    "       SUM(article_read) as article_read\n",
    "  FROM user_activity \n",
    " WHERE gender is not null\n",
    " GROUP BY gender, tomorrow_flg\n",
    " ORDER BY gender, tomorrow_flg\n",
    "\"\"\""
   ]
  },
  {
   "cell_type": "code",
   "execution_count": 16,
   "metadata": {},
   "outputs": [
    {
     "data": {
      "text/html": [
       "<div>\n",
       "<style>\n",
       "    .dataframe thead tr:only-child th {\n",
       "        text-align: right;\n",
       "    }\n",
       "\n",
       "    .dataframe thead th {\n",
       "        text-align: left;\n",
       "    }\n",
       "\n",
       "    .dataframe tbody tr th {\n",
       "        vertical-align: top;\n",
       "    }\n",
       "</style>\n",
       "<table border=\"1\" class=\"dataframe\">\n",
       "  <thead>\n",
       "    <tr style=\"text-align: right;\">\n",
       "      <th></th>\n",
       "      <th>gender</th>\n",
       "      <th>tomorrow_flg</th>\n",
       "      <th>app_open</th>\n",
       "      <th>topic_follow</th>\n",
       "      <th>article_show</th>\n",
       "      <th>article_read</th>\n",
       "    </tr>\n",
       "  </thead>\n",
       "  <tbody>\n",
       "    <tr>\n",
       "      <th>0</th>\n",
       "      <td>female</td>\n",
       "      <td>0</td>\n",
       "      <td>92</td>\n",
       "      <td>24</td>\n",
       "      <td>2467</td>\n",
       "      <td>183</td>\n",
       "    </tr>\n",
       "    <tr>\n",
       "      <th>1</th>\n",
       "      <td>female</td>\n",
       "      <td>1</td>\n",
       "      <td>256</td>\n",
       "      <td>8</td>\n",
       "      <td>7391</td>\n",
       "      <td>264</td>\n",
       "    </tr>\n",
       "    <tr>\n",
       "      <th>2</th>\n",
       "      <td>male</td>\n",
       "      <td>0</td>\n",
       "      <td>362</td>\n",
       "      <td>82</td>\n",
       "      <td>9817</td>\n",
       "      <td>426</td>\n",
       "    </tr>\n",
       "    <tr>\n",
       "      <th>3</th>\n",
       "      <td>male</td>\n",
       "      <td>1</td>\n",
       "      <td>1474</td>\n",
       "      <td>160</td>\n",
       "      <td>30397</td>\n",
       "      <td>1433</td>\n",
       "    </tr>\n",
       "  </tbody>\n",
       "</table>\n",
       "</div>"
      ],
      "text/plain": [
       "   gender tomorrow_flg  app_open  topic_follow  article_show  article_read\n",
       "0  female            0        92            24          2467           183\n",
       "1  female            1       256             8          7391           264\n",
       "2    male            0       362            82          9817           426\n",
       "3    male            1      1474           160         30397          1433"
      ]
     },
     "execution_count": 16,
     "metadata": {},
     "output_type": "execute_result"
    }
   ],
   "source": [
    "user_sql = psql.read_sql(con=con, sql=your_sql)\n",
    "user_sql.head(n=100)"
   ]
  },
  {
   "cell_type": "markdown",
   "metadata": {},
   "source": [
    "女性の場合（翌日もアプリを使用していた人の初日の行動割合）\n",
    "\n",
    "・app_open（アプリの起動）256件／348件（73.5%）\n",
    "\n",
    "・article_show（記事タイトルを見た）7391件／9858件（74.9%）\n",
    "\n",
    "・article_read（記事本文を閲覧した）264件／447件（59%）\n",
    "\n",
    "・topic_follow（テーマをフォローした）8件／32件（25%）\n",
    "\n",
    "\n",
    "\n",
    "男性の場合（翌日もアプリを使用していた人の初日の行動割合）\n",
    "\n",
    "・app_open（アプリの起動）1474件／1936件（76.1%）\n",
    "\n",
    "・article_show（記事タイトルを見た）30397件／40214件（75.5%）\n",
    "\n",
    "・article_read（記事本文を閲覧した）1433件／1859件（77%）\n",
    "\n",
    "・topic_follow（テーマをフォローした）160件／242件（66.1%）\n",
    "\n",
    "\n",
    "\n",
    "考察：\n",
    "\n",
    "男女別で比較すると、女性の場合には下記の傾向が識別された。\n",
    "女性ユーザーは母集団数自体が少ないが、女性を対象とした「記事の内容」について、改善すべき可能性がある。\n",
    "\n",
    "・初日に「記事本文を閲覧した」ユーザーの内、翌日もアプリを利用したユーザーは59%\n",
    "\n",
    "・初日に「テーマをフォローした」ユーザーの内、翌日もアプリを利用したユーザーは25%\n",
    "\n",
    "また、男性・女性ともに、初日に「記事タイトルを見た」件数に対して「記事本文を見た」件数が5%以下である。「記事タイトル」が、ユーザーを「記事本文」へアクセスさせる動機づけに不十分であり、「記事タイトル」の見せ方を改善すべき可能性がある。\n",
    "\n",
    "\n",
    "\n"
   ]
  },
  {
   "cell_type": "code",
   "execution_count": null,
   "metadata": {
    "collapsed": true
   },
   "outputs": [],
   "source": []
  }
 ],
 "metadata": {
  "kernelspec": {
   "display_name": "Python 3",
   "language": "python",
   "name": "python3"
  },
  "language_info": {
   "codemirror_mode": {
    "name": "ipython",
    "version": 3
   },
   "file_extension": ".py",
   "mimetype": "text/x-python",
   "name": "python",
   "nbconvert_exporter": "python",
   "pygments_lexer": "ipython3",
   "version": "3.6.1"
  }
 },
 "nbformat": 4,
 "nbformat_minor": 1
}
